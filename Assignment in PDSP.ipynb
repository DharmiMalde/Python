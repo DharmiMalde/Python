{
 "cells": [
  {
   "cell_type": "code",
   "execution_count": 53,
   "id": "be79d8e5",
   "metadata": {},
   "outputs": [],
   "source": [
    "def squarefree(n):\n",
    "    for i in range(2,round(n**0.5+1)):\n",
    "        if n % (i**2) == 0:\n",
    "            return False\n",
    "    return True"
   ]
  },
  {
   "cell_type": "code",
   "execution_count": 54,
   "id": "b33580bb",
   "metadata": {},
   "outputs": [
    {
     "data": {
      "text/plain": [
       "(False, True, True)"
      ]
     },
     "execution_count": 54,
     "metadata": {},
     "output_type": "execute_result"
    }
   ],
   "source": [
    "squarefree(4),squarefree(5),squarefree(105)"
   ]
  },
  {
   "cell_type": "code",
   "execution_count": 55,
   "id": "cb35d572",
   "metadata": {},
   "outputs": [],
   "source": [
    "def perfect(n):\n",
    "    factors = []\n",
    "    for i in range(n-2):\n",
    "        if n % (i+1) == 0:\n",
    "            factors.append(i+1)\n",
    "    return sum(factors) == n"
   ]
  },
  {
   "cell_type": "code",
   "execution_count": 56,
   "id": "3aab773d",
   "metadata": {},
   "outputs": [
    {
     "data": {
      "text/plain": [
       "(True, False, True, False)"
      ]
     },
     "execution_count": 56,
     "metadata": {},
     "output_type": "execute_result"
    }
   ],
   "source": [
    "perfect(6),perfect(12),perfect(28),perfect(60)"
   ]
  },
  {
   "cell_type": "code",
   "execution_count": 57,
   "id": "6b0bc10c",
   "metadata": {},
   "outputs": [],
   "source": [
    "def nondecreasing(l):\n",
    "    if len(l) <= 1:\n",
    "        return True\n",
    "    else:\n",
    "        for i in range(len(l)-1):\n",
    "            if l[i] > l[i+1]:\n",
    "                return False\n",
    "    return True"
   ]
  },
  {
   "cell_type": "code",
   "execution_count": 58,
   "id": "c2a9dad8",
   "metadata": {},
   "outputs": [
    {
     "data": {
      "text/plain": [
       "(True, False, True, True)"
      ]
     },
     "execution_count": 58,
     "metadata": {},
     "output_type": "execute_result"
    }
   ],
   "source": [
    "nondecreasing([8,8,11]),nondecreasing([3,18,4]),nondecreasing([17]),nondecreasing([])"
   ]
  }
 ],
 "metadata": {
  "kernelspec": {
   "display_name": "Python 3 (ipykernel)",
   "language": "python",
   "name": "python3"
  },
  "language_info": {
   "codemirror_mode": {
    "name": "ipython",
    "version": 3
   },
   "file_extension": ".py",
   "mimetype": "text/x-python",
   "name": "python",
   "nbconvert_exporter": "python",
   "pygments_lexer": "ipython3",
   "version": "3.8.5"
  }
 },
 "nbformat": 4,
 "nbformat_minor": 5
}
