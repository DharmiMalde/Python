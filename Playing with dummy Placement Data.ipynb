{
 "cells": [
  {
   "cell_type": "markdown",
   "id": "3341a34f-0f6d-4271-8972-f670ffaeaf3f",
   "metadata": {},
   "source": [
    "PDSP 2023, Practice Assignment 1, 30 August 2023"
   ]
  },
  {
   "cell_type": "code",
   "execution_count": 4,
   "id": "e7b04a96-96bd-4461-90ff-815fa5acc2c9",
   "metadata": {},
   "outputs": [],
   "source": [
    "plist = [\n",
    "(\"2017-18\",\"B.Sc\",\"CS\",1800000),\n",
    "(\"2017-18\",\"M.Sc Appl. Math\",\"CS\",1170000),\n",
    "(\"2017-18\",\"M.Sc Appl. Math\",\"Manufacturing\",730000),\n",
    "(\"2017-18\",\"M.Sc Appl. Math\",\"Banking-Finance\",1490000),\n",
    "(\"2017-18\",\"M.Sc Appl. Math\",\"Banking-Finance\",1000000),\n",
    "(\"2017-18\",\"M.Sc Appl. Math\",\"Logistics\",1250000),\n",
    "(\"2017-18\",\"M.Sc Appl. Math\",\"Logistics\",1250000),\n",
    "(\"2017-18\",\"M.Sc Appl. Math\",\"Banking-Finance\",1155000),\n",
    "(\"2017-18\",\"M.Sc Appl. Math\",\"Banking-Finance\",1155000),\n",
    "(\"2017-18\",\"M.Sc Appl. Math\",\"CS\",2000000),\n",
    "(\"2018-19\",\"B.Sc\",\"Banking-Finance\",700000),\n",
    "(\"2018-19\",\"B.Sc\",\"Banking-Finance\",1480000),\n",
    "(\"2018-19\",\"M.Sc Appl. Math\",\"Manufacturing\",730000),\n",
    "(\"2019-20\",\"M.Sc Data Science\",\"CS\",2000000),\n",
    "(\"2019-20\",\"M.Sc Data Science\",\"CS\",1800000),\n",
    "(\"2019-20\",\"M.Sc Data Science\",\"Analytics\",1700000),\n",
    "(\"2019-20\",\"M.Sc Data Science\",\"Analytics\",1700000),\n",
    "(\"2019-20\",\"M.Sc Data Science\",\"Analytics\",1350000),\n",
    "(\"2019-20\",\"M.Sc Data Science\",\"Banking-Finance\",1344000),\n",
    "(\"2019-20\",\"M.Sc Data Science\",\"Banking-Finance\",1335827),\n",
    "(\"2019-20\",\"M.Sc Data Science\",\"Banking-Finance\",1335827),\n",
    "(\"2019-20\",\"M.Sc Data Science\",\"Banking-Finance\",1335827),\n",
    "(\"2019-20\",\"M.Sc Data Science\",\"Banking-Finance\",1335827),\n",
    "(\"2019-20\",\"M.Sc Data Science\",\"Banking-Finance\",1335827),\n",
    "(\"2019-20\",\"M.Sc Data Science\",\"Banking-Finance\",1335827),\n",
    "(\"2019-20\",\"M.Sc Data Science\",\"Banking-Finance\",1335827),\n",
    "(\"2019-20\",\"M.Sc Data Science\",\"Banking-Finance\",1335827),\n",
    "(\"2019-20\",\"M.Sc Data Science\",\"Banking-Finance\",1335827),\n",
    "(\"2019-20\",\"M.Sc Data Science\",\"Banking-Finance\",1335827),\n",
    "(\"2019-20\",\"M.Sc Data Science\",\"Banking-Finance\",1335827),\n",
    "(\"2019-20\",\"M.Sc Comp. Science\",\"Banking-Finance\",1335827),\n",
    "(\"2019-20\",\"M.Sc Comp. Science\",\"Banking-Finance\",1335827),\n",
    "(\"2019-20\",\"M.Sc Data Science\",\"CS\",1301968),\n",
    "(\"2019-20\",\"M.Sc Data Science\",\"CS\",1301968),\n",
    "(\"2019-20\",\"M.Sc Comp. Science\",\"Logistics\",1000000),\n",
    "(\"2019-20\",\"M.Sc Data Science\",\"Banking-Finance\",1600000),\n",
    "(\"2020-21\",\"M.Sc Comp. Science\",\"Banking-Finance\",1500000),\n",
    "(\"2020-21\",\"M.Sc Data Science\",\"Analytics\",900000),\n",
    "(\"2020-21\",\"Ph.D Comp. Science\",\"Banking-Finance\",1454545),\n",
    "(\"2020-21\",\"M.Sc Data Science\",\"Analytics\",1300000),\n",
    "(\"2020-21\",\"M.Sc Data Science\",\"Analytics\",700000),\n",
    "(\"2020-21\",\"M.Sc Data Science\",\"Analytics\",700000),\n",
    "(\"2020-21\",\"M.Sc Data Science\",\"Analytics\",700000),\n",
    "(\"2020-21\",\"M.Sc Data Science\",\"Analytics\",700000),\n",
    "(\"2020-21\",\"M.Sc Data Science\",\"Banking-Finance\",1350000),\n",
    "(\"2020-21\",\"M.Sc Data Science\",\"Banking-Finance\",1350000),\n",
    "(\"2020-21\",\"M.Sc Data Science\",\"Analytics\",1680000),\n",
    "(\"2020-21\",\"M.Sc Data Science\",\"Banking-Finance\",1360000),\n",
    "(\"2020-21\",\"M.Sc Data Science\",\"Banking-Finance\",1300000),\n",
    "(\"2020-21\",\"M.Sc Data Science\",\"Banking-Finance\",1300000),\n",
    "(\"2020-21\",\"M.Sc Data Science\",\"Banking-Finance\",900000),\n",
    "(\"2020-21\",\"M.Sc Data Science\",\"Banking-Finance\",1842632),\n",
    "(\"2020-21\",\"M.Sc Data Science\",\"Banking-Finance\",1842632),\n",
    "(\"2020-21\",\"M.Sc Data Science\",\"Banking-Finance\",1842632),\n",
    "(\"2020-21\",\"M.Sc Data Science\",\"Banking-Finance\",1842632),\n",
    "(\"2020-21\",\"M.Sc Data Science\",\"Banking-Finance\",1842632),\n",
    "(\"2020-21\",\"M.Sc Data Science\",\"CS\",1150000),\n",
    "(\"2020-21\",\"M.Sc Data Science\",\"Analytics\",850000),\n",
    "(\"2020-21\",\"M.Sc Data Science\",\"Analytics\",850000),\n",
    "(\"2020-21\",\"M.Sc Comp. Science\",\"Analytics\",850000),\n",
    "(\"2020-21\",\"M.Sc Data Science\",\"CS\",1200000),\n",
    "(\"2020-21\",\"M.Sc Data Science\",\"Analytics\",1608000),\n",
    "(\"2020-21\",\"M.Sc Data Science\",\"Analytics\",1608000),\n",
    "(\"2020-21\",\"M.Sc Data Science\",\"CS\",1100000),\n",
    "(\"2020-21\",\"M.Sc Data Science\",\"Analytics\",1500000),\n",
    "(\"2020-21\",\"M.Sc Data Science\",\"Banking-Finance\",1550000),\n",
    "(\"2020-21\",\"M.Sc Data Science\",\"Banking-Finance\",1550000),\n",
    "(\"2020-21\",\"M.Sc Comp. Science\",\"Banking-Finance\",1350000),\n",
    "(\"2020-21\",\"M.Sc Data Science\",\"Banking-Finance\",1200000),\n",
    "(\"2020-21\",\"M.Sc Data Science\",\"Analytics\",900000),\n",
    "(\"2020-21\",\"M.Sc Data Science\",\"Banking-Finance\",3300000),\n",
    "(\"2020-21\",\"Ph.D Physics\",\"Banking-Finance\",3000000),\n",
    "(\"2020-21\",\"M.Sc Data Science\",\"Banking-Finance\",1500000),\n",
    "]"
   ]
  },
  {
   "cell_type": "markdown",
   "id": "0c4a92c4-2ef2-4109-80ed-ad468822bf69",
   "metadata": {},
   "source": [
    "Questions\n",
    "1. Compute the minimum pay package overall.\n",
    "2. Compute the second lowest pay package overall. There may be multiple students with the same minimum pay package. The value we want is the next lowest pay\n",
    "package other than the minimum pay package.\n",
    "3. Compute the average (mean) pay package of students graduating with M.Sc Appl. Math.\n",
    "4. Compute whether the following statement is true: the average pay package for M.Sc Comp. Science is lower than the average pay package for M.Sc Appl. Math.\n",
    "5. Compute the graduating degrees (B.Sc, M.Sc Comp. Science, M.Sc Data Science, ...) with the maximum and minium average pay packages.\n",
    "6. Compute the graduating degree (B.Sc, M.Sc Comp. Science, M.Sc Data Science, ...) for which the maximum number of different domains (Analytics, BankingFinance, ...) have been placed. For instance, students from B.Sc have been placed in CS and Banking-Finance.\n"
   ]
  },
  {
   "cell_type": "markdown",
   "id": "2350e058-e3cc-4a07-b96b-19304fb31428",
   "metadata": {},
   "source": [
    "Question 1"
   ]
  },
  {
   "cell_type": "code",
   "execution_count": 6,
   "id": "4a4ee667-74ca-4e86-a35e-5931b0cf27eb",
   "metadata": {},
   "outputs": [],
   "source": [
    "minpay = plist[0][3]\n",
    "for item in plist:\n",
    "    pay = item[3]\n",
    "    if pay < minpay:\n",
    "        minpay = pay"
   ]
  },
  {
   "cell_type": "code",
   "execution_count": 8,
   "id": "e47ce521-59d3-4e67-8964-823e460e0c04",
   "metadata": {},
   "outputs": [
    {
     "data": {
      "text/plain": [
       "700000"
      ]
     },
     "execution_count": 8,
     "metadata": {},
     "output_type": "execute_result"
    }
   ],
   "source": [
    "minpay"
   ]
  },
  {
   "cell_type": "markdown",
   "id": "ddcb87d8-e366-4414-96a0-6be5868510c9",
   "metadata": {},
   "source": [
    "Question 2"
   ]
  },
  {
   "cell_type": "code",
   "execution_count": 10,
   "id": "d3063fe4-6ba5-4881-a477-c5480974c942",
   "metadata": {},
   "outputs": [],
   "source": [
    "sec_pay = plist[0][3]\n",
    "for item in plist:\n",
    "    pay = item[3]\n",
    "    if pay < sec_pay and pay != minpay:\n",
    "        sec_pay = pay"
   ]
  },
  {
   "cell_type": "code",
   "execution_count": 12,
   "id": "15b9e566-5d1c-49c8-95d9-fe04334583ee",
   "metadata": {},
   "outputs": [
    {
     "data": {
      "text/plain": [
       "730000"
      ]
     },
     "execution_count": 12,
     "metadata": {},
     "output_type": "execute_result"
    }
   ],
   "source": [
    "sec_pay"
   ]
  },
  {
   "cell_type": "markdown",
   "id": "f648c36e-89a7-4082-aed8-f970523d503c",
   "metadata": {},
   "source": [
    "Question 3"
   ]
  },
  {
   "cell_type": "code",
   "execution_count": 14,
   "id": "3de270e7-49bf-4fe0-a425-17de82e69ee9",
   "metadata": {},
   "outputs": [],
   "source": [
    "count = 0\n",
    "sum = 0\n",
    "for item in plist:\n",
    "    if item[1] == \"M.Sc Appl. Math\":\n",
    "        count = count + 1\n",
    "        sum = sum + item[3]\n",
    "ave_pay_math = sum/count"
   ]
  },
  {
   "cell_type": "code",
   "execution_count": 16,
   "id": "04e4196f-74ad-47ff-a1be-1e41e0910266",
   "metadata": {},
   "outputs": [
    {
     "data": {
      "text/plain": [
       "1193000.0"
      ]
     },
     "execution_count": 16,
     "metadata": {},
     "output_type": "execute_result"
    }
   ],
   "source": [
    "ave_pay_math"
   ]
  },
  {
   "cell_type": "markdown",
   "id": "20a40285-9424-4df3-acbc-9e2872a2f1de",
   "metadata": {},
   "source": [
    "Question 4"
   ]
  },
  {
   "cell_type": "code",
   "execution_count": 18,
   "id": "dd5540f7-bd3b-4a9f-bdbc-3ff2dff03038",
   "metadata": {},
   "outputs": [],
   "source": [
    "count = 0\n",
    "sum = 0\n",
    "for item in plist:\n",
    "    if item[1] == \"M.Sc Comp. Science\":\n",
    "        count = count + 1\n",
    "        sum = sum + item[3]\n",
    "ave_pay_cs = sum/count"
   ]
  },
  {
   "cell_type": "code",
   "execution_count": 20,
   "id": "20ed1e66-dc13-4524-a979-d0bfd7a541a3",
   "metadata": {},
   "outputs": [
    {
     "data": {
      "text/plain": [
       "1228609.0"
      ]
     },
     "execution_count": 20,
     "metadata": {},
     "output_type": "execute_result"
    }
   ],
   "source": [
    "ave_pay_cs"
   ]
  },
  {
   "cell_type": "code",
   "execution_count": 22,
   "id": "828b6fd9-b584-472d-ab9d-eb81443b6370",
   "metadata": {},
   "outputs": [
    {
     "data": {
      "text/plain": [
       "False"
      ]
     },
     "execution_count": 22,
     "metadata": {},
     "output_type": "execute_result"
    }
   ],
   "source": [
    "ave_pay_cs < ave_pay_math"
   ]
  },
  {
   "cell_type": "markdown",
   "id": "66b3ac08-efa9-4259-ad4d-6c9143fe8d84",
   "metadata": {},
   "source": [
    "Question 5"
   ]
  },
  {
   "cell_type": "code",
   "execution_count": 24,
   "id": "607e5d07-a9dd-479c-8f14-db622bfffb8b",
   "metadata": {},
   "outputs": [
    {
     "data": {
      "text/plain": [
       "({'B.Sc': 3980000,\n",
       "  'M.Sc Appl. Math': 11930000,\n",
       "  'M.Sc Data Science': 72111193,\n",
       "  'M.Sc Comp. Science': 7371654,\n",
       "  'Ph.D Comp. Science': 1454545,\n",
       "  'Ph.D Physics': 3000000},\n",
       " {'B.Sc': 3,\n",
       "  'M.Sc Appl. Math': 10,\n",
       "  'M.Sc Data Science': 52,\n",
       "  'M.Sc Comp. Science': 6,\n",
       "  'Ph.D Comp. Science': 1,\n",
       "  'Ph.D Physics': 1})"
      ]
     },
     "execution_count": 24,
     "metadata": {},
     "output_type": "execute_result"
    }
   ],
   "source": [
    "dic_sum_pay = {}\n",
    "dic_count_pay = {}\n",
    "for item in plist:\n",
    "    if item[1] in dic_sum_pay.keys():\n",
    "        dic_sum_pay[item[1]] = dic_sum_pay[item[1]] + item[3]\n",
    "        dic_count_pay[item[1]] = dic_count_pay[item[1]] + 1\n",
    "    else:\n",
    "        dic_sum_pay[item[1]] = item[3]\n",
    "        dic_count_pay[item[1]] = 1\n",
    "dic_sum_pay, dic_count_pay"
   ]
  },
  {
   "cell_type": "code",
   "execution_count": 26,
   "id": "da37dabb-f61f-447e-98a6-89dc8d2fe10d",
   "metadata": {},
   "outputs": [
    {
     "data": {
      "text/plain": [
       "{'B.Sc': 1326666.6666666667,\n",
       " 'M.Sc Appl. Math': 1193000.0,\n",
       " 'M.Sc Data Science': 1386753.7115384615,\n",
       " 'M.Sc Comp. Science': 1228609.0,\n",
       " 'Ph.D Comp. Science': 1454545.0,\n",
       " 'Ph.D Physics': 3000000.0}"
      ]
     },
     "execution_count": 26,
     "metadata": {},
     "output_type": "execute_result"
    }
   ],
   "source": [
    "dic_avg_pay = {}\n",
    "for key in dic_sum_pay.keys():\n",
    "    dic_avg_pay[key] = dic_sum_pay[key]/dic_count_pay[key]\n",
    "dic_avg_pay"
   ]
  },
  {
   "cell_type": "code",
   "execution_count": 28,
   "id": "e2f0a87c-17c1-4660-b865-6fb5d5ee922e",
   "metadata": {},
   "outputs": [],
   "source": [
    "max_pay = dic_avg_pay[\"B.Sc\"]\n",
    "min_pay = dic_avg_pay[\"B.Sc\"]\n",
    "for key in dic_avg_pay:\n",
    "    if dic_avg_pay[key] >= max_pay:\n",
    "        max_domain = key\n",
    "        max_pay = dic_avg_pay[key]\n",
    "    if dic_avg_pay[key] <= min_pay:\n",
    "        min_domain = key\n",
    "        min_pay = dic_avg_pay[key]"
   ]
  },
  {
   "cell_type": "code",
   "execution_count": 30,
   "id": "98b17bd9-0888-4882-82df-58f24bdc8d96",
   "metadata": {},
   "outputs": [
    {
     "data": {
      "text/plain": [
       "('Ph.D Physics', 'M.Sc Appl. Math')"
      ]
     },
     "execution_count": 30,
     "metadata": {},
     "output_type": "execute_result"
    }
   ],
   "source": [
    "max_domain , min_domain"
   ]
  },
  {
   "cell_type": "markdown",
   "id": "a592e4c6-fb9f-4085-a5ab-881b04454017",
   "metadata": {},
   "source": [
    "Question 6"
   ]
  },
  {
   "cell_type": "code",
   "execution_count": 32,
   "id": "cd4070ca-d34b-40ad-aab5-913c4cebc4f6",
   "metadata": {},
   "outputs": [
    {
     "data": {
      "text/plain": [
       "{'B.Sc': {'Banking-Finance', 'CS'},\n",
       " 'M.Sc Appl. Math': {'Banking-Finance', 'CS', 'Logistics', 'Manufacturing'},\n",
       " 'M.Sc Data Science': {'Analytics', 'Banking-Finance', 'CS'},\n",
       " 'M.Sc Comp. Science': {'Analytics', 'Banking-Finance', 'Logistics'},\n",
       " 'Ph.D Comp. Science': {'Banking-Finance'},\n",
       " 'Ph.D Physics': {'Banking-Finance'}}"
      ]
     },
     "execution_count": 32,
     "metadata": {},
     "output_type": "execute_result"
    }
   ],
   "source": [
    "num_domain = {}\n",
    "for item in plist:\n",
    "    if item[1] in num_domain:\n",
    "        num_domain[item[1]].add(item[2])\n",
    "    else :\n",
    "        num_domain[item[1]] = {item[2]}\n",
    "num_domain"
   ]
  },
  {
   "cell_type": "code",
   "execution_count": 36,
   "id": "a15e56b5-b38f-4e49-bdda-5ac393ac9355",
   "metadata": {},
   "outputs": [
    {
     "data": {
      "text/plain": [
       "'M.Sc Appl. Math'"
      ]
     },
     "execution_count": 36,
     "metadata": {},
     "output_type": "execute_result"
    }
   ],
   "source": [
    "max_domain = 0 \n",
    "for key in num_domain.keys():\n",
    "    if len(num_domain[key])>= max_domain:\n",
    "        max_domain = len(num_domain[key])\n",
    "        domain_name = key\n",
    "domain_name"
   ]
  }
 ],
 "metadata": {
  "kernelspec": {
   "display_name": "anaconda-2022.05-py39",
   "language": "python",
   "name": "conda-env-anaconda-2022.05-py39-py"
  },
  "language_info": {
   "codemirror_mode": {
    "name": "ipython",
    "version": 3
   },
   "file_extension": ".py",
   "mimetype": "text/x-python",
   "name": "python",
   "nbconvert_exporter": "python",
   "pygments_lexer": "ipython3",
   "version": "3.9.12"
  }
 },
 "nbformat": 4,
 "nbformat_minor": 5
}
